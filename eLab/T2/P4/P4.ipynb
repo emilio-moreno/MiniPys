{
 "cells": [
  {
   "cell_type": "code",
   "execution_count": 1,
   "id": "763ec0d8-f91c-4af2-955a-33ccc468aec1",
   "metadata": {},
   "outputs": [],
   "source": [
    "import numpy as np\n",
    "import matplotlib.pyplot as plt\n",
    "import sympy as sp\n",
    "\n",
    "plt.rcParams.update({\"font.family\": \"Times New Roman\", \"mathtext.fontset\": \"cm\"})"
   ]
  },
  {
   "cell_type": "markdown",
   "id": "27ce2d26-3648-4728-a223-e2e1b2a6c101",
   "metadata": {},
   "source": []
  }
 ],
 "metadata": {
  "kernelspec": {
   "display_name": "Python 3 (ipykernel)",
   "language": "python",
   "name": "python3"
  },
  "language_info": {
   "codemirror_mode": {
    "name": "ipython",
    "version": 3
   },
   "file_extension": ".py",
   "mimetype": "text/x-python",
   "name": "python",
   "nbconvert_exporter": "python",
   "pygments_lexer": "ipython3",
   "version": "3.10.7"
  }
 },
 "nbformat": 4,
 "nbformat_minor": 5
}
